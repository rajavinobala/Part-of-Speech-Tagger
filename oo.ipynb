{
 "cells": [
  {
   "cell_type": "code",
   "execution_count": 4,
   "metadata": {},
   "outputs": [],
   "source": [
    "from tkinter import *\n",
    "import tkinter as tk\n",
    "import spacy\n",
    "import webbrowser\n",
    "from tkinter.ttk import *\n",
    "from tkinter.filedialog import askopenfile \n",
    "\n",
    "\n",
    "\n",
    "sp = spacy.load('en_core_web_sm')\n",
    "root=Tk()\n",
    "\n",
    "root.geometry('500x500')\n",
    "root.title(\"Parts of speech Tagger\")\n",
    "label_0=Label(root,text=\"Parts of Speech Tagger\",width=20,font=(\"bold\",20))\n",
    "label_0.place(x=90,y=53)\n",
    "label_1=Label(root,text=\"Speech to be Tagged  :\",width=20,font=(\"bold\",10))\n",
    "label_1.place(x=75,y=130)\n",
    "link1 = Label(root, text=\"learn breifly\", cursor=\"hand2\")\n",
    "link1.pack()\n",
    "link1.bind(\"<Button-1>\", lambda e: callback(\"http://partofspeech.org\"))\n",
    "\n",
    "entry_1=Entry(root)\n",
    "entry_1.place(x=240,y=130)\n",
    "\n",
    "\n",
    "Button(root,text='Submit',width=20,command=pos).place(x=160,y=175)\n",
    "btn = Button(root, text ='upload a file', command = lambda:open_file()) \n",
    "btn.pack(side = TOP, pady = 10)\n",
    "\n",
    "text1=Text(root)\n",
    "text1.place(x=0,y=200)\n",
    "root.mainloop()"
   ]
  },
  {
   "cell_type": "code",
   "execution_count": 3,
   "metadata": {},
   "outputs": [],
   "source": [
    "def pos(word):\n",
    "    #word=entry_1.get()\n",
    "    sen=sp(word)\n",
    "    ans=\"\"\n",
    "    for word in sen:\n",
    "        ans+=f'{word.text:{15}} {word.pos_:{13}} {word.tag_:{8}} {spacy.explain(word.tag_)}\\n'\n",
    "    text1.insert(INSERT,ans)\n",
    "def callback(url):\n",
    "    webbrowser.open_new(url)\n",
    "def open_file(): \n",
    "    file = askopenfile(mode ='r', filetypes =[(\"All Files\",'*.*'),('Python Files', '*.py')]) \n",
    "    if file is not None: \n",
    "        content = file.read()\n",
    "        pos(content)\n",
    "        #print(content) \n"
   ]
  },
  {
   "cell_type": "code",
   "execution_count": null,
   "metadata": {},
   "outputs": [],
   "source": []
  }
 ],
 "metadata": {
  "kernelspec": {
   "display_name": "Python 3",
   "language": "python",
   "name": "python3"
  },
  "language_info": {
   "codemirror_mode": {
    "name": "ipython",
    "version": 3
   },
   "file_extension": ".py",
   "mimetype": "text/x-python",
   "name": "python",
   "nbconvert_exporter": "python",
   "pygments_lexer": "ipython3",
   "version": "3.7.6"
  }
 },
 "nbformat": 4,
 "nbformat_minor": 2
}
