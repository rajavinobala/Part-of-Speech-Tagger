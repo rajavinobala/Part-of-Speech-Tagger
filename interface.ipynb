{
 "cells": [
  {
   "cell_type": "code",
   "execution_count": 1,
   "metadata": {},
   "outputs": [],
   "source": [
    "from tkinter import*\n",
    "root=Tk()\n",
    "root.geometry('500x500')\n",
    "root.title(\"Parts of speech Tagger\")\n",
    "label_0=Label(root,text=\"Parts of Speech Tagger\",width=20,font=(\"bold\",20))\n",
    "label_0.place(x=90,y=53)\n",
    "label_1=Label(root,text=\"Speech to be Tagged  :\",width=20,font=(\"bold\",10))\n",
    "label_1.place(x=75,y=130)\n",
    "entry_1=Entry(root)\n",
    "entry_1.place(x=240,y=130)\n",
    "label_2 = Label(root, text=\"output :\",width=20,font=(\"bold\",10))\n",
    "label_2.place(x=68,y=180)\n",
    "entry_2 = Entry(root)\n",
    "entry_2.place(x=240,y=180)\n",
    "Button(root,text=\"Submit\",command=root.destroy,width=20,bg='green',fg='white').place(x=160,y=360)\n",
    "root.mainloop()"
   ]
  },
  {
   "cell_type": "code",
   "execution_count": null,
   "metadata": {},
   "outputs": [],
   "source": []
  }
 ],
 "metadata": {
  "kernelspec": {
   "display_name": "Python 3",
   "language": "python",
   "name": "python3"
  },
  "language_info": {
   "codemirror_mode": {
    "name": "ipython",
    "version": 3
   },
   "file_extension": ".py",
   "mimetype": "text/x-python",
   "name": "python",
   "nbconvert_exporter": "python",
   "pygments_lexer": "ipython3",
   "version": "3.7.6"
  }
 },
 "nbformat": 4,
 "nbformat_minor": 4
}
